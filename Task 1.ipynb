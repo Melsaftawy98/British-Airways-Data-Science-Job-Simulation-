{
 "cells": [
  {
   "cell_type": "markdown",
   "id": "bd1a1b13-da40-45f4-8aff-cf97a9e63814",
   "metadata": {},
   "source": [
    "# British Airways Virtual Intern"
   ]
  },
  {
   "cell_type": "markdown",
   "id": "88d2189b-06e4-43f9-8f61-e0dd4d20cbc8",
   "metadata": {},
   "source": [
    "## 1. Webscraping"
   ]
  },
  {
   "cell_type": "code",
   "execution_count": 54,
   "id": "b6e5413c-4df6-4946-a41b-67484f9c239c",
   "metadata": {},
   "outputs": [],
   "source": [
    "import sys\n",
    "\n",
    "import requests\n",
    "from bs4 import BeautifulSoup\n",
    "import re\n",
    "import unicodedata\n",
    "import pandas as pd\n",
    "import numpy as np\n"
   ]
  },
  {
   "cell_type": "code",
   "execution_count": 55,
   "id": "cdd0b77c-f0f9-48ac-8520-c2e4e4cb04ba",
   "metadata": {},
   "outputs": [],
   "source": [
    "url = \"https://www.airlinequality.com/airline-reviews/british-airways\""
   ]
  },
  {
   "cell_type": "code",
   "execution_count": 82,
   "id": "3733f532-8694-4396-8a4e-54ac69893210",
   "metadata": {},
   "outputs": [
    {
     "name": "stdout",
     "output_type": "stream",
     "text": [
      "Scraping page 1\n",
      "   ---> 100 total reviews\n",
      "Scraping page 2\n",
      "   ---> 200 total reviews\n",
      "Scraping page 3\n",
      "   ---> 300 total reviews\n",
      "Scraping page 4\n",
      "   ---> 400 total reviews\n",
      "Scraping page 5\n",
      "   ---> 500 total reviews\n",
      "Scraping page 6\n",
      "   ---> 600 total reviews\n",
      "Scraping page 7\n",
      "   ---> 700 total reviews\n",
      "Scraping page 8\n",
      "   ---> 800 total reviews\n",
      "Scraping page 9\n",
      "   ---> 900 total reviews\n",
      "Scraping page 10\n",
      "   ---> 1000 total reviews\n",
      "Scraping page 11\n",
      "   ---> 1100 total reviews\n",
      "Scraping page 12\n",
      "   ---> 1200 total reviews\n",
      "Scraping page 13\n",
      "   ---> 1300 total reviews\n",
      "Scraping page 14\n",
      "   ---> 1400 total reviews\n",
      "Scraping page 15\n",
      "   ---> 1500 total reviews\n",
      "Scraping page 16\n",
      "   ---> 1600 total reviews\n",
      "Scraping page 17\n",
      "   ---> 1700 total reviews\n",
      "Scraping page 18\n",
      "   ---> 1800 total reviews\n",
      "Scraping page 19\n",
      "   ---> 1900 total reviews\n",
      "Scraping page 20\n",
      "   ---> 2000 total reviews\n"
     ]
    }
   ],
   "source": [
    "data = []\n",
    "\n",
    "page_num = 1\n",
    "page_incr = 1\n",
    "page_size = 100\n",
    "\n",
    "max_pages = 20\n",
    "\n",
    "#url page number to be scraped\n",
    "paginated_url = f\"{url}/page/{page_num}/?sortby=post_date%3ADesc&pagesize={page_size}\"\n",
    "\n",
    "# A while loop to paginate through the webpage and scrape the data\n",
    "while page_num <= max_pages:\n",
    "\n",
    "    print(f\"Scraping page {page_num}\")\n",
    "\n",
    "    # A GET request to the paginated URL\n",
    "    response = requests.get(paginated_url)\n",
    "\n",
    "    # Parsing the response using BeautifulSoup\n",
    "    parsed_content = BeautifulSoup(response.text, \"html.parser\")\n",
    "\n",
    "    # Finding all the elements on the page that contain the data to be scraped\n",
    "    elements = parsed_content.find_all(\"div\",class_ = \"body\")\n",
    "\n",
    "    # Looping through the elements and extract the data that you want to scrape\n",
    "    for element in elements:\n",
    "        header = element.find(\"h2\",class_ = \"text_header\").text.replace(\"\\n\", \" \")\n",
    "        sub_header = element.find(\"h3\",class_ = \"text_sub_header\").text.replace(\"\\n\", \" \")\n",
    "        content = element.find(\"div\",class_ = \"text_content\").text.replace(\"\\n\", \" \")\n",
    "        \n",
    "        data.append([header,sub_header,content])\n",
    "\n",
    "    # Increasing the page number and setting the paginated URL to the new page\n",
    "    page_num += page_incr\n",
    "    paginated_url = f\"{url}/page/{page_num}/?sortby=post_date%3ADesc&pagesize={page_size}\"\n",
    "\n",
    "    print(f\"   ---> {len(data)} total reviews\")"
   ]
  },
  {
   "cell_type": "code",
   "execution_count": 84,
   "id": "a25cf8b5-dfeb-4373-839a-41180357f5e1",
   "metadata": {},
   "outputs": [
    {
     "data": {
      "text/html": [
       "<div>\n",
       "<style scoped>\n",
       "    .dataframe tbody tr th:only-of-type {\n",
       "        vertical-align: middle;\n",
       "    }\n",
       "\n",
       "    .dataframe tbody tr th {\n",
       "        vertical-align: top;\n",
       "    }\n",
       "\n",
       "    .dataframe thead th {\n",
       "        text-align: right;\n",
       "    }\n",
       "</style>\n",
       "<table border=\"1\" class=\"dataframe\">\n",
       "  <thead>\n",
       "    <tr style=\"text-align: right;\">\n",
       "      <th></th>\n",
       "      <th>Review</th>\n",
       "      <th>Personal information</th>\n",
       "      <th>Comment</th>\n",
       "    </tr>\n",
       "  </thead>\n",
       "  <tbody>\n",
       "    <tr>\n",
       "      <th>0</th>\n",
       "      <td>“VERY uncomfortable seats”</td>\n",
       "      <td>M Owen (United States) 19th July 2024</td>\n",
       "      <td>If you can’t fly First Class don’t fly British...</td>\n",
       "    </tr>\n",
       "    <tr>\n",
       "      <th>1</th>\n",
       "      <td>\"substandard business class experience\"</td>\n",
       "      <td>1 reviews    Bryan Fisk (New Zealand) 16th J...</td>\n",
       "      <td>Not Verified |   Singapore to Heathrow. Busine...</td>\n",
       "    </tr>\n",
       "    <tr>\n",
       "      <th>2</th>\n",
       "      <td>\"Customer Service is shocking\"</td>\n",
       "      <td>David Bolland (United Kingdom) 15th July 2024</td>\n",
       "      <td>Not Verified |   I reported my damaged/ruined ...</td>\n",
       "    </tr>\n",
       "    <tr>\n",
       "      <th>3</th>\n",
       "      <td>\"left me extremely disappointed\"</td>\n",
       "      <td>Daniel Chinellato (Germany) 9th July 2024</td>\n",
       "      <td>Not Verified |   On March 1st, I flew from Ber...</td>\n",
       "    </tr>\n",
       "    <tr>\n",
       "      <th>4</th>\n",
       "      <td>“customer service was awful”</td>\n",
       "      <td>Flora Dogneton (United Kingdom) 5th July 2024</td>\n",
       "      <td>Not Verified | The WORST customer experience! ...</td>\n",
       "    </tr>\n",
       "    <tr>\n",
       "      <th>...</th>\n",
       "      <td>...</td>\n",
       "      <td>...</td>\n",
       "      <td>...</td>\n",
       "    </tr>\n",
       "    <tr>\n",
       "      <th>1995</th>\n",
       "      <td>\"can only be described as appalling\"</td>\n",
       "      <td>Julie Smith (United Kingdom) 23rd January 2017</td>\n",
       "      <td>✅ Verified Review |  Flew from Gatwick to Tamp...</td>\n",
       "    </tr>\n",
       "    <tr>\n",
       "      <th>1996</th>\n",
       "      <td>\"the aircraft was filthy\"</td>\n",
       "      <td>D Norman (United Kingdom) 22nd January 2017</td>\n",
       "      <td>✅ Verified Review |  Flew British Airways from...</td>\n",
       "    </tr>\n",
       "    <tr>\n",
       "      <th>1997</th>\n",
       "      <td>\"horrible food, unmotivated crew\"</td>\n",
       "      <td>Y Woodrow (United Kingdom) 22nd January 2017</td>\n",
       "      <td>✅ Verified Review |  London Heathrow to Dubai,...</td>\n",
       "    </tr>\n",
       "    <tr>\n",
       "      <th>1998</th>\n",
       "      <td>\"will never fly with BA again\"</td>\n",
       "      <td>1 reviews    Niina Ursin (United Kingdom) 21...</td>\n",
       "      <td>✅ Verified Review |  Never again! Booked a rou...</td>\n",
       "    </tr>\n",
       "    <tr>\n",
       "      <th>1999</th>\n",
       "      <td>\"not fair for the fare\"</td>\n",
       "      <td>S Parent (France) 21st January 2017</td>\n",
       "      <td>✅ Verified Review | Not fair for the fare. Fle...</td>\n",
       "    </tr>\n",
       "  </tbody>\n",
       "</table>\n",
       "<p>2000 rows × 3 columns</p>\n",
       "</div>"
      ],
      "text/plain": [
       "                                       Review  \\\n",
       "0                  “VERY uncomfortable seats”   \n",
       "1     \"substandard business class experience\"   \n",
       "2              \"Customer Service is shocking\"   \n",
       "3           \"left me extremely disappointed\"    \n",
       "4                “customer service was awful”   \n",
       "...                                       ...   \n",
       "1995     \"can only be described as appalling\"   \n",
       "1996                \"the aircraft was filthy\"   \n",
       "1997        \"horrible food, unmotivated crew\"   \n",
       "1998           \"will never fly with BA again\"   \n",
       "1999                  \"not fair for the fare\"   \n",
       "\n",
       "                                   Personal information  \\\n",
       "0                 M Owen (United States) 19th July 2024   \n",
       "1       1 reviews    Bryan Fisk (New Zealand) 16th J...   \n",
       "2         David Bolland (United Kingdom) 15th July 2024   \n",
       "3             Daniel Chinellato (Germany) 9th July 2024   \n",
       "4         Flora Dogneton (United Kingdom) 5th July 2024   \n",
       "...                                                 ...   \n",
       "1995     Julie Smith (United Kingdom) 23rd January 2017   \n",
       "1996        D Norman (United Kingdom) 22nd January 2017   \n",
       "1997       Y Woodrow (United Kingdom) 22nd January 2017   \n",
       "1998    1 reviews    Niina Ursin (United Kingdom) 21...   \n",
       "1999                S Parent (France) 21st January 2017   \n",
       "\n",
       "                                                Comment  \n",
       "0     If you can’t fly First Class don’t fly British...  \n",
       "1     Not Verified |   Singapore to Heathrow. Busine...  \n",
       "2     Not Verified |   I reported my damaged/ruined ...  \n",
       "3     Not Verified |   On March 1st, I flew from Ber...  \n",
       "4     Not Verified | The WORST customer experience! ...  \n",
       "...                                                 ...  \n",
       "1995  ✅ Verified Review |  Flew from Gatwick to Tamp...  \n",
       "1996  ✅ Verified Review |  Flew British Airways from...  \n",
       "1997  ✅ Verified Review |  London Heathrow to Dubai,...  \n",
       "1998  ✅ Verified Review |  Never again! Booked a rou...  \n",
       "1999  ✅ Verified Review | Not fair for the fare. Fle...  \n",
       "\n",
       "[2000 rows x 3 columns]"
      ]
     },
     "execution_count": 84,
     "metadata": {},
     "output_type": "execute_result"
    }
   ],
   "source": [
    "#Coverting the list data into a dataframe\n",
    "df = pd.DataFrame(data)\n",
    "df.columns = [\"Review\",\"Personal information\",\"Comment\"]\n",
    "\n",
    "#Removing unwanted text(first text preprocessing)\n",
    "df.replace(re.compile(r'\\s*✅ Trip Verified \\|\\s*'), '', inplace=True)\n",
    "df"
   ]
  },
  {
   "cell_type": "code",
   "execution_count": 86,
   "id": "bcded2ad-3b0b-486a-993b-ee989f9b563f",
   "metadata": {},
   "outputs": [],
   "source": [
    "df.to_csv(r\"C:\\Users\\Lenovo\\Desktop\\YT Data Analysis\\BA_reviews.csv\")"
   ]
  },
  {
   "cell_type": "code",
   "execution_count": 88,
   "id": "4b224e6e-870c-43ef-b95f-07f2bb6adc60",
   "metadata": {},
   "outputs": [
    {
     "data": {
      "text/html": [
       "<div>\n",
       "<style scoped>\n",
       "    .dataframe tbody tr th:only-of-type {\n",
       "        vertical-align: middle;\n",
       "    }\n",
       "\n",
       "    .dataframe tbody tr th {\n",
       "        vertical-align: top;\n",
       "    }\n",
       "\n",
       "    .dataframe thead th {\n",
       "        text-align: right;\n",
       "    }\n",
       "</style>\n",
       "<table border=\"1\" class=\"dataframe\">\n",
       "  <thead>\n",
       "    <tr style=\"text-align: right;\">\n",
       "      <th></th>\n",
       "      <th>Comment</th>\n",
       "    </tr>\n",
       "  </thead>\n",
       "  <tbody>\n",
       "    <tr>\n",
       "      <th>0</th>\n",
       "      <td>If you can’t fly First Class don’t fly British...</td>\n",
       "    </tr>\n",
       "    <tr>\n",
       "      <th>1</th>\n",
       "      <td>Not Verified |   Singapore to Heathrow. Busine...</td>\n",
       "    </tr>\n",
       "    <tr>\n",
       "      <th>2</th>\n",
       "      <td>Not Verified |   I reported my damaged/ruined ...</td>\n",
       "    </tr>\n",
       "    <tr>\n",
       "      <th>3</th>\n",
       "      <td>Not Verified |   On March 1st, I flew from Ber...</td>\n",
       "    </tr>\n",
       "    <tr>\n",
       "      <th>4</th>\n",
       "      <td>Not Verified | The WORST customer experience! ...</td>\n",
       "    </tr>\n",
       "    <tr>\n",
       "      <th>...</th>\n",
       "      <td>...</td>\n",
       "    </tr>\n",
       "    <tr>\n",
       "      <th>1995</th>\n",
       "      <td>Flew from Gatwick to Tampa Business class on 7...</td>\n",
       "    </tr>\n",
       "    <tr>\n",
       "      <th>1996</th>\n",
       "      <td>Flew British Airways from Miami to London Heat...</td>\n",
       "    </tr>\n",
       "    <tr>\n",
       "      <th>1997</th>\n",
       "      <td>London Heathrow to Dubai, and a delayed flight...</td>\n",
       "    </tr>\n",
       "    <tr>\n",
       "      <th>1998</th>\n",
       "      <td>Never again! Booked a round trip from to Londo...</td>\n",
       "    </tr>\n",
       "    <tr>\n",
       "      <th>1999</th>\n",
       "      <td>Not fair for the fare. Flew Bangkok to Paris v...</td>\n",
       "    </tr>\n",
       "  </tbody>\n",
       "</table>\n",
       "<p>2000 rows × 1 columns</p>\n",
       "</div>"
      ],
      "text/plain": [
       "                                                Comment\n",
       "0     If you can’t fly First Class don’t fly British...\n",
       "1     Not Verified |   Singapore to Heathrow. Busine...\n",
       "2     Not Verified |   I reported my damaged/ruined ...\n",
       "3     Not Verified |   On March 1st, I flew from Ber...\n",
       "4     Not Verified | The WORST customer experience! ...\n",
       "...                                                 ...\n",
       "1995  Flew from Gatwick to Tampa Business class on 7...\n",
       "1996  Flew British Airways from Miami to London Heat...\n",
       "1997  London Heathrow to Dubai, and a delayed flight...\n",
       "1998  Never again! Booked a round trip from to Londo...\n",
       "1999  Not fair for the fare. Flew Bangkok to Paris v...\n",
       "\n",
       "[2000 rows x 1 columns]"
      ]
     },
     "execution_count": 88,
     "metadata": {},
     "output_type": "execute_result"
    }
   ],
   "source": [
    "sentiment_analysis_df = df.drop([\"Review\",\"Personal information\"], axis=1)\n",
    "sentiment_analysis_df.replace(re.compile(r'\\s*✅ Verified Review \\|\\s*'), '', inplace=True)\n",
    "sentiment_analysis_df"
   ]
  },
  {
   "cell_type": "code",
   "execution_count": 90,
   "id": "07f3c79a-f087-4546-9ff1-4e1ba9b70adb",
   "metadata": {},
   "outputs": [],
   "source": [
    "sentiment_analysis_df.to_csv(\"sentiment_content.csv\", index=False)"
   ]
  },
  {
   "cell_type": "code",
   "execution_count": 92,
   "id": "bef57509-1515-497f-9611-f07ceafeba13",
   "metadata": {},
   "outputs": [
    {
     "data": {
      "text/plain": [
       "Comment    0.0\n",
       "dtype: float64"
      ]
     },
     "execution_count": 92,
     "metadata": {},
     "output_type": "execute_result"
    }
   ],
   "source": [
    "#Checking for null values in the dataframe\n",
    "sentiment_analysis_df.isnull().sum()/len(df)*100\n"
   ]
  },
  {
   "cell_type": "code",
   "execution_count": 94,
   "id": "d1cd1cb3-cc38-4344-b4c8-6f4b6451445c",
   "metadata": {},
   "outputs": [
    {
     "data": {
      "text/plain": [
       "Review                  0.0\n",
       "Personal information    0.0\n",
       "Comment                 0.0\n",
       "dtype: float64"
      ]
     },
     "execution_count": 94,
     "metadata": {},
     "output_type": "execute_result"
    }
   ],
   "source": [
    "df.isnull().sum()/len(df)*100"
   ]
  },
  {
   "cell_type": "code",
   "execution_count": null,
   "id": "699d6594-dd35-4d97-92e4-080bb0fb2b3b",
   "metadata": {},
   "outputs": [],
   "source": []
  }
 ],
 "metadata": {
  "kernelspec": {
   "display_name": "Python 3 (ipykernel)",
   "language": "python",
   "name": "python3"
  },
  "language_info": {
   "codemirror_mode": {
    "name": "ipython",
    "version": 3
   },
   "file_extension": ".py",
   "mimetype": "text/x-python",
   "name": "python",
   "nbconvert_exporter": "python",
   "pygments_lexer": "ipython3",
   "version": "3.11.7"
  }
 },
 "nbformat": 4,
 "nbformat_minor": 5
}
